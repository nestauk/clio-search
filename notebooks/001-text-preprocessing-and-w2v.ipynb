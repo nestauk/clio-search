{
 "cells": [
  {
   "cell_type": "code",
   "execution_count": 2,
   "metadata": {},
   "outputs": [],
   "source": [
    "import pickle\n",
    "import numpy as np\n",
    "import pandas as pd\n",
    "\n",
    "import gensim\n",
    "from gensim.models import Phrases\n",
    "from gensim.models.phrases import Phraser\n",
    "\n",
    "from collections import defaultdict\n",
    "\n",
    "import sys\n",
    "sys.path.append('../src/clio/')\n",
    "from utils import *\n",
    "from text_preprocessing import *\n",
    "from clio import *"
   ]
  },
  {
   "cell_type": "code",
   "execution_count": 4,
   "metadata": {},
   "outputs": [
    {
     "name": "stderr",
     "output_type": "stream",
     "text": [
      "/Users/konstantinosstathoulopoulos/anaconda3/envs/py36/lib/python3.6/site-packages/IPython/core/interactiveshell.py:2785: DtypeWarning: Columns (2,5,6,8,9,10,11,12,13,14,15,16,19,20,23) have mixed types. Specify dtype option on import or set low_memory=False.\n",
      "  interactivity=interactivity, compiler=compiler, result=result)\n",
      "/Users/konstantinosstathoulopoulos/anaconda3/envs/py36/lib/python3.6/site-packages/ipykernel/__main__.py:10: FutureWarning: Sorting because non-concatenation axis is not aligned. A future version\n",
      "of pandas will change to not sort by default.\n",
      "\n",
      "To accept the future behavior, pass 'sort=False'.\n",
      "\n",
      "To retain the current behavior and silence the warning, pass 'sort=True'.\n",
      "\n"
     ]
    },
    {
     "name": "stdout",
     "output_type": "stream",
     "text": [
      "Data shape: (7139532, 25)\n"
     ]
    }
   ],
   "source": [
    "# Read data\n",
    "df1 = pd.read_json('../data/raw/corex_matched_noOAG.json')\n",
    "df1 = df1[['institutes', 'arxiv_categories', 'arxiv_raw_summary', 'arxiv_id', 'date']]\n",
    "df1['Source ID'] = 'arxiv'\n",
    "df1.rename(index=str, inplace=True, columns={'arxiv_id':'Row ID', 'date':'Start Date', 'institutes':'Name', 'arxiv_raw_summary':'Description', 'arxiv_id':'Row ID'})\n",
    "\n",
    "df2 = pd.read_csv('../data/raw/gh_cb_gdb_v1.csv', compression='gzip')\n",
    "\n",
    "# concat df1, df2\n",
    "df = pd.concat([df2, df1])\n",
    "df = df[df.Description.isnull()==False]\n",
    "df.reset_index(inplace=True, drop=True)\n",
    "\n",
    "print('Data shape: {}'.format(df.shape))"
   ]
  },
  {
   "cell_type": "code",
   "execution_count": 8,
   "metadata": {},
   "outputs": [],
   "source": [
    "df.to_csv('../data/processed/df.csv')"
   ]
  },
  {
   "cell_type": "code",
   "execution_count": 8,
   "metadata": {},
   "outputs": [],
   "source": [
    "nlproc = TextPreprocessing()"
   ]
  },
  {
   "cell_type": "code",
   "execution_count": 9,
   "metadata": {},
   "outputs": [],
   "source": [
    "def rwjf_sent(text):\n",
    "    \"\"\"Remove first sentence of RWJF grants.\"\"\"\n",
    "    txt = []\n",
    "    for sent in text.split('.'):\n",
    "        if ':' in sent:\n",
    "            txt.extend(sent.split(':'))\n",
    "        else:\n",
    "            txt.append(sent)\n",
    "    if len(txt) > 1:\n",
    "        return '. '.join(txt[1:])\n",
    "    else:\n",
    "        return ' '.join(txt)"
   ]
  },
  {
   "cell_type": "code",
   "execution_count": 10,
   "metadata": {},
   "outputs": [],
   "source": [
    "df['Description'] = [desc if df.loc[i, 'GDB Dataset ID'] != 'rwjf' else rwjf_sent(desc) for i, desc in enumerate(df['Description']) ]"
   ]
  },
  {
   "cell_type": "code",
   "execution_count": 8,
   "metadata": {},
   "outputs": [
    {
     "name": "stdout",
     "output_type": "stream",
     "text": [
      "CPU times: user 35min 4s, sys: 17.6 s, total: 35min 21s\n",
      "Wall time: 35min 26s\n"
     ]
    }
   ],
   "source": [
    "%%time\n",
    "documents = [flatten_lists(nlproc.tokenize_document(doc)) for doc in list(df['Description'])]"
   ]
  },
  {
   "cell_type": "code",
   "execution_count": 9,
   "metadata": {},
   "outputs": [
    {
     "name": "stdout",
     "output_type": "stream",
     "text": [
      "CPU times: user 30min 32s, sys: 7min 46s, total: 38min 19s\n",
      "Wall time: 41min 30s\n"
     ]
    }
   ],
   "source": [
    "%%time\n",
    "# bigrams\n",
    "phrases = gensim.models.Phrases(documents, min_count=2, delimiter=b'_')\n",
    "bigram = gensim.models.phrases.Phraser(phrases)\n",
    "docs_bi = list(bigram[documents])\n",
    "\n",
    "# trigrams\n",
    "phrases = gensim.models.Phrases(docs_bi, min_count=2, delimiter=b'_')\n",
    "trigram = gensim.models.phrases.Phraser(phrases)\n",
    "docs = list(trigram[docs_bi])"
   ]
  },
  {
   "cell_type": "code",
   "execution_count": 11,
   "metadata": {},
   "outputs": [
    {
     "data": {
      "text/plain": [
       "7139561"
      ]
     },
     "execution_count": 11,
     "metadata": {},
     "output_type": "execute_result"
    }
   ],
   "source": [
    "len(docs)"
   ]
  },
  {
   "cell_type": "code",
   "execution_count": 13,
   "metadata": {},
   "outputs": [],
   "source": [
    "import pickle\n",
    "import os.path\n",
    "\n",
    "file_path = \"../data/processed/docs.pkl\"\n",
    "n_bytes = 2**31\n",
    "max_bytes = 2**31 - 1\n",
    "data = bytearray(n_bytes)\n",
    "\n",
    "## write\n",
    "bytes_out = pickle.dumps(docs)\n",
    "with open(file_path, 'wb') as f_out:\n",
    "    for idx in range(0, len(bytes_out), max_bytes):\n",
    "        f_out.write(bytes_out[idx:idx+max_bytes])"
   ]
  },
  {
   "cell_type": "code",
   "execution_count": null,
   "metadata": {},
   "outputs": [],
   "source": [
    "%%time\n",
    "w2v = gensim.models.Word2Vec(docs, size=300, window=10, min_count=2, iter=20)"
   ]
  },
  {
   "cell_type": "code",
   "execution_count": null,
   "metadata": {},
   "outputs": [],
   "source": [
    "w2v.save('../models/w2v.model')"
   ]
  }
 ],
 "metadata": {
  "kernelspec": {
   "display_name": "Python [conda env:py36]",
   "language": "python",
   "name": "conda-env-py36-py"
  },
  "language_info": {
   "codemirror_mode": {
    "name": "ipython",
    "version": 3
   },
   "file_extension": ".py",
   "mimetype": "text/x-python",
   "name": "python",
   "nbconvert_exporter": "python",
   "pygments_lexer": "ipython3",
   "version": "3.6.6"
  }
 },
 "nbformat": 4,
 "nbformat_minor": 2
}
